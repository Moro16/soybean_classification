{
 "cells": [
  {
   "cell_type": "markdown",
   "metadata": {},
   "source": [
    "# Criação de classe para convereter as imagens e fazer a predição"
   ]
  },
  {
   "cell_type": "code",
   "execution_count": 16,
   "metadata": {},
   "outputs": [],
   "source": [
    "from tensorflow.keras.preprocessing.image import img_to_array, load_img\n",
    "import tf_keras as k3\n",
    "import numpy as np"
   ]
  },
  {
   "cell_type": "code",
   "execution_count": 10,
   "metadata": {},
   "outputs": [],
   "source": [
    "class SoybeanPrediciton:\n",
    "\n",
    "    def __init__(self, image, model):\n",
    "        self.image = image\n",
    "        self.model = model\n",
    "\n",
    "    def predict(self):\n",
    "\n",
    "       img_array = img_to_array(self.image)\n",
    "       x = np.expand_dims(img_array, axis=0)\n",
    "       pred = self.model.predict(x)\n",
    "       numero_classe = list(list(pred)[0]).index(pred.max())\n",
    "       classe_lista = ['Broken soybeans', 'Immature soybeans', 'Intact soybeans',\n",
    "                       'Skin-damaged soybeans', 'Spotted soybeans']\n",
    "       return classe_lista[numero_classe]\n"
   ]
  },
  {
   "cell_type": "code",
   "execution_count": 11,
   "metadata": {},
   "outputs": [],
   "source": [
    "model = k3.models.load_model(\"model_val_loss:0.3586-val_accuracy:0.9048\")"
   ]
  },
  {
   "cell_type": "code",
   "execution_count": 13,
   "metadata": {},
   "outputs": [],
   "source": [
    "test_path = \"raw_data/test\"\n",
    "img = load_img(f'{test_path}/Skin-damaged soybeans/474.jpg', target_size=(128,128))"
   ]
  },
  {
   "cell_type": "code",
   "execution_count": 14,
   "metadata": {},
   "outputs": [],
   "source": [
    "sb =SoybeanPrediciton(img, model)"
   ]
  },
  {
   "cell_type": "code",
   "execution_count": 17,
   "metadata": {},
   "outputs": [
    {
     "name": "stdout",
     "output_type": "stream",
     "text": [
      "1/1 [==============================] - 0s 120ms/step\n"
     ]
    },
    {
     "data": {
      "text/plain": [
       "'Skin-damaged soybeans'"
      ]
     },
     "execution_count": 17,
     "metadata": {},
     "output_type": "execute_result"
    }
   ],
   "source": [
    "sb.predict()"
   ]
  },
  {
   "cell_type": "code",
   "execution_count": null,
   "metadata": {},
   "outputs": [],
   "source": []
  }
 ],
 "metadata": {
  "kernelspec": {
   "display_name": "soybean_classification",
   "language": "python",
   "name": "python3"
  },
  "language_info": {
   "codemirror_mode": {
    "name": "ipython",
    "version": 3
   },
   "file_extension": ".py",
   "mimetype": "text/x-python",
   "name": "python",
   "nbconvert_exporter": "python",
   "pygments_lexer": "ipython3",
   "version": "3.10.6"
  }
 },
 "nbformat": 4,
 "nbformat_minor": 2
}
