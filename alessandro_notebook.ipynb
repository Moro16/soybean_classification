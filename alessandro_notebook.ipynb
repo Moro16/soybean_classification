{
 "cells": [
  {
   "cell_type": "code",
   "execution_count": 1,
   "id": "b8a73bdd-c14f-48cc-a6f4-cdd061fddc64",
   "metadata": {},
   "outputs": [],
   "source": [
    "# import kagglehub\n",
    "# path = kagglehub.dataset_download(\"warcoder/soyabean-seeds\")\n",
    "\n",
    "# print(\"Path to dataset files:\", path)"
   ]
  },
  {
   "cell_type": "code",
   "execution_count": 2,
   "id": "e9f3ab27-7850-41e5-bc97-a7a46a6f660d",
   "metadata": {},
   "outputs": [],
   "source": [
    "dataset_path = \"raw_data/Soybean Seeds\"\n",
    "train_path = \"raw_data/train\"\n",
    "val_path = \"raw_data/val\"\n",
    "test_path = \"raw_data/test\""
   ]
  },
  {
   "cell_type": "code",
   "execution_count": 3,
   "id": "7aa86aed-1378-47f2-a802-12c2f6c57297",
   "metadata": {},
   "outputs": [],
   "source": [
    "import os\n",
    "import random\n",
    "import pandas as pd\n",
    "import numpy as np\n",
    "import matplotlib.pyplot as plt"
   ]
  },
  {
   "cell_type": "code",
   "execution_count": 4,
   "id": "da9c6cbd-8054-4e14-8ef9-174e4caaca82",
   "metadata": {},
   "outputs": [],
   "source": [
    "os.makedirs(train_path, exist_ok=True)\n",
    "os.makedirs(val_path, exist_ok=True)\n",
    "os.makedirs(test_path, exist_ok=True)"
   ]
  },
  {
   "cell_type": "code",
   "execution_count": 5,
   "id": "fe61a857-e6da-4243-ad87-a81ee9538e32",
   "metadata": {
    "scrolled": true
   },
   "outputs": [],
   "source": [
    "# train_ratio = 0.7\n",
    "# val_ratio = .15\n",
    "\n",
    "# for class_folder in os.listdir(dataset_path):\n",
    "#     class_path = os.path.join(dataset_path, class_folder)\n",
    "#     images = os.listdir(class_path)\n",
    "#     random.shuffle(images)\n",
    "\n",
    "#     # Calculate the split index\n",
    "#     split_index = int(train_ratio * len(images))\n",
    "#     val_len = int(len(images) * (1-val_ratio))\n",
    "\n",
    "#     # Split the images into training and testing sets\n",
    "#     train_images = images[:split_index]\n",
    "#     val_images = images[split_index:val_len]\n",
    "#     test_images = images[val_len:]\n",
    "\n",
    "#     # Create class folders in the training and testing directories\n",
    "#     train_class_path = os.path.join(train_path, class_folder)\n",
    "#     val_class_path = os.path.join(val_path, class_folder)\n",
    "#     test_class_path = os.path.join(test_path, class_folder)\n",
    "#     os.makedirs(train_class_path, exist_ok=True)\n",
    "#     os.makedirs(val_class_path, exist_ok=True)\n",
    "#     os.makedirs(test_class_path, exist_ok=True)\n",
    "\n",
    "#     # Move images to the respective class folders in training and testing\n",
    "#     for image in train_images:\n",
    "#         src = os.path.join(class_path, image)\n",
    "#         dest = os.path.join(train_class_path, image)\n",
    "#         shutil.copy(src, dest)\n",
    "\n",
    "#     for image in val_images:\n",
    "#         src = os.path.join(class_path, image)\n",
    "#         dest = os.path.join(val_class_path, image)\n",
    "#         shutil.copy(src, dest)\n",
    "\n",
    "#     for image in test_images:\n",
    "#         src = os.path.join(class_path, image)\n",
    "#         dest = os.path.join(test_class_path, image)\n",
    "#         shutil.copy(src, dest)"
   ]
  },
  {
   "cell_type": "code",
   "execution_count": 49,
   "id": "c88a4948-3ec5-47e4-865d-4a628b3662fa",
   "metadata": {},
   "outputs": [],
   "source": [
    "from tensorflow.keras.preprocessing.image import array_to_img, img_to_array, load_img\n",
    "\n",
    "from tensorflow.keras.models import Sequential, Model, load_model, save_model\n",
    "from tensorflow.keras import layers, optimizers, callbacks\n",
    "from tensorflow.keras.utils import image_dataset_from_directory\n",
    "\n",
    "from tensorflow.keras.layers import Dense,Flatten,Conv2D,Activation,Dropout,MaxPool2D"
   ]
  },
  {
   "cell_type": "code",
   "execution_count": 7,
   "id": "9c8e41e0-e2f0-4af8-bbd7-3a049bd49e39",
   "metadata": {},
   "outputs": [],
   "source": [
    "# img = load_img(f'{train_path}/Broken soybeans/3.jpg')\n",
    "# x = img_to_array(img)/255\n",
    "# img"
   ]
  },
  {
   "cell_type": "code",
   "execution_count": 8,
   "id": "c586fb0d-eac8-4241-b3c0-948425c1fd22",
   "metadata": {},
   "outputs": [],
   "source": [
    "# x.shape"
   ]
  },
  {
   "cell_type": "code",
   "execution_count": 9,
   "id": "e9a69776-a113-4e75-846a-99958a9bdab8",
   "metadata": {},
   "outputs": [],
   "source": [
    "train_dir = \"raw_data/train\"\n",
    "val_dir = \"raw_data/test\"\n",
    "test_dir = \"raw_data/test\""
   ]
  },
  {
   "cell_type": "code",
   "execution_count": 10,
   "id": "449e5385-0f1e-4c55-ba56-0da0f3afac1a",
   "metadata": {},
   "outputs": [],
   "source": [
    "train_df = pd.DataFrame(columns=[\"path\", \"class\"])\n",
    "val_df = pd.DataFrame(columns=[\"path\", \"class\"])\n",
    "test_df = pd.DataFrame(columns=[\"path\", \"class\"])"
   ]
  },
  {
   "cell_type": "code",
   "execution_count": 11,
   "id": "7f5678bc-9cc8-4e45-bba9-20df164b605c",
   "metadata": {},
   "outputs": [],
   "source": [
    "# for class_name in os.listdir(train_dir):\n",
    "#   class_dir = os.path.join(train_dir, class_name)\n",
    "#   for image_name in os.listdir(class_dir):\n",
    "#     image_path = os.path.join(class_dir, image_name)\n",
    "#     train_df.loc[len(train_df.index)] = [image_path, class_name] \n",
    "\n",
    "# for class_name in os.listdir(test_dir):\n",
    "#   class_dir = os.path.join(test_dir, class_name)\n",
    "#   for image_name in os.listdir(class_dir):\n",
    "#     image_path = os.path.join(class_dir, image_name)\n",
    "#     test_df.loc[len(test_df.index)] = [image_path, class_name]\n",
    "\n",
    "# for class_name in os.listdir(val_dir):\n",
    "#   class_dir = os.path.join(val_dir, class_name)\n",
    "#   for image_name in os.listdir(class_dir):\n",
    "#     image_path = os.path.join(class_dir, image_name)\n",
    "#     val_df.loc[len(val_df.index)] = [image_path, class_name]"
   ]
  },
  {
   "cell_type": "code",
   "execution_count": 12,
   "id": "2df8bcb3-76c8-4fa0-ab0a-973d267272d3",
   "metadata": {
    "scrolled": true
   },
   "outputs": [],
   "source": [
    "# train_df.info(), val_df.info(), test_df.info()"
   ]
  },
  {
   "cell_type": "code",
   "execution_count": 13,
   "id": "b7c0126a-2dab-4b14-9252-b3932dfef294",
   "metadata": {
    "scrolled": true
   },
   "outputs": [],
   "source": [
    "# test_df.head()"
   ]
  },
  {
   "cell_type": "code",
   "execution_count": 14,
   "id": "e4fcc849-b8e7-443f-af44-63b9ecc83994",
   "metadata": {},
   "outputs": [],
   "source": [
    "def plot_history(history):\n",
    "    fig, ax = plt.subplots(1, 2, figsize=(15,5))\n",
    "    ax[0].set_title('loss')\n",
    "    ax[0].plot(history.epoch, history.history[\"loss\"], label=\"Train loss\")\n",
    "    ax[0].plot(history.epoch, history.history[\"val_loss\"], label=\"Validation loss\")\n",
    "    ax[1].set_title('accuracy')\n",
    "    ax[1].plot(history.epoch, history.history[\"accuracy\"], label=\"Train acc\")\n",
    "    ax[1].plot(history.epoch, history.history[\"val_accuracy\"], label=\"Validation acc\")\n",
    "    ax[0].legend()\n",
    "    ax[1].legend()"
   ]
  },
  {
   "cell_type": "code",
   "execution_count": 15,
   "id": "2ff5bdc4-d3e3-4a29-9caa-b43b53a3e4bf",
   "metadata": {},
   "outputs": [],
   "source": [
    "# def plot_compare_history(history, name_history, history_1, name_history_1):\n",
    "\n",
    "#     fig, ax = plt.subplots(1, 2, figsize=(15,5))\n",
    "\n",
    "#     ax[0].set_title('loss')\n",
    "\n",
    "#     ax[0].plot(history.epoch, history.history[\"loss\"], label=\"Train loss \" + name_history)\n",
    "#     ax[0].plot(history.epoch, history.history[\"val_loss\"], label=\"Validation loss \" + name_history)\n",
    "\n",
    "#     ax[0].plot(history_1.epoch, history_1.history[\"loss\"], label=\"Train loss \" + name_history_1)\n",
    "#     ax[0].plot(history_1.epoch, history_1.history[\"val_loss\"], label=\"Validation loss \" + name_history_1)\n",
    "\n",
    "#     ax[1].set_title('Accuracy')\n",
    "\n",
    "#     ax[1].plot(history.epoch, history.history[\"accuracy\"], label=\"Train Accuracy \" + name_history)\n",
    "#     ax[1].plot(history.epoch, history.history[\"val_accuracy\"], label=\"Validation Accuracy \" + name_history)\n",
    "\n",
    "#     ax[1].plot(history_1.epoch, history_1.history[\"accuracy\"], label=\"Train Accuracy \" + name_history_1)\n",
    "#     ax[1].plot(history_1.epoch, history_1.history[\"val_accuracy\"], label=\"Validation Accuracy \" + name_history_1)\n",
    "\n",
    "#     ax[0].legend()\n",
    "#     ax[1].legend()"
   ]
  },
  {
   "cell_type": "markdown",
   "id": "6fb4da00-6cdb-46ca-b744-ffa966459ad7",
   "metadata": {},
   "source": [
    "# PRIMEIRO MODELO"
   ]
  },
  {
   "cell_type": "code",
   "execution_count": 16,
   "id": "7916e01f-7833-4291-976b-40b223a51839",
   "metadata": {},
   "outputs": [],
   "source": [
    "# model = Sequential()\n",
    "\n",
    "# model.add(layers.Rescaling(1/255, input_shape=(227,227,3)))\n",
    "\n",
    "# model.add(layers.RandomFlip(mode='horizontal_and_vertical'))\n",
    "\n",
    "# model.add(layers.Conv2D(filters=32, kernel_size=(3,3), activation='relu', padding='same'))\n",
    "# model.add(layers.MaxPool2D(pool_size=(5,5), padding='same'))\n",
    "\n",
    "# model.add(layers.Conv2D(filters=32, kernel_size=(3,3), activation='relu', padding='same'))\n",
    "# model.add(layers.MaxPool2D(pool_size=(3,3), padding='same'))\n",
    "\n",
    "# model.add(layers.Conv2D(filters=64, kernel_size=(3,3), activation='relu', padding='same'))\n",
    "# model.add(layers.MaxPool2D(pool_size=(2,2), padding='same'))\n",
    "\n",
    "# model.add(layers.Conv2D(filters=128, kernel_size=(3,3), activation='relu', padding='same'))\n",
    "# model.add(layers.MaxPool2D(pool_size=(2,2), padding='same'))\n",
    "\n",
    "# model.add(layers.Flatten())\n",
    "\n",
    "# model.add(layers.Dense(96, activation='relu'))\n",
    "# model.add(layers.Dropout(.5))\n",
    "\n",
    "# model.add(layers.Dense(64, activation='relu'))\n",
    "# model.add(layers.Dropout(.5))\n",
    "\n",
    "# model.add(layers.Dense(5,activation=\"softmax\"))\n",
    "\n",
    "# model.summary()"
   ]
  },
  {
   "cell_type": "markdown",
   "id": "31b95585-b8fa-488a-8fdf-be4668386ba1",
   "metadata": {},
   "source": [
    "# MODELO MELHORADO"
   ]
  },
  {
   "cell_type": "code",
   "execution_count": 74,
   "id": "74d6c60c-ebe3-453d-8206-98f240137bb8",
   "metadata": {
    "scrolled": true
   },
   "outputs": [
    {
     "name": "stdout",
     "output_type": "stream",
     "text": [
      "Model: \"sequential_8\"\n",
      "_________________________________________________________________\n",
      " Layer (type)                Output Shape              Param #   \n",
      "=================================================================\n",
      " rescaling_8 (Rescaling)     (None, 128, 128, 3)       0         \n",
      "                                                                 \n",
      " random_flip_13 (RandomFlip)  (None, 128, 128, 3)      0         \n",
      "                                                                 \n",
      " random_flip_14 (RandomFlip)  (None, 128, 128, 3)      0         \n",
      "                                                                 \n",
      " conv2d_20 (Conv2D)          (None, 128, 128, 24)      1176      \n",
      "                                                                 \n",
      " max_pooling2d_20 (MaxPoolin  (None, 26, 26, 24)       0         \n",
      " g2D)                                                            \n",
      "                                                                 \n",
      " batch_normalization_20 (Bat  (None, 26, 26, 24)       96        \n",
      " chNormalization)                                                \n",
      "                                                                 \n",
      " conv2d_21 (Conv2D)          (None, 26, 26, 24)        5208      \n",
      "                                                                 \n",
      " max_pooling2d_21 (MaxPoolin  (None, 9, 9, 24)         0         \n",
      " g2D)                                                            \n",
      "                                                                 \n",
      " batch_normalization_21 (Bat  (None, 9, 9, 24)         96        \n",
      " chNormalization)                                                \n",
      "                                                                 \n",
      " conv2d_22 (Conv2D)          (None, 9, 9, 48)          10416     \n",
      "                                                                 \n",
      " max_pooling2d_22 (MaxPoolin  (None, 5, 5, 48)         0         \n",
      " g2D)                                                            \n",
      "                                                                 \n",
      " batch_normalization_22 (Bat  (None, 5, 5, 48)         192       \n",
      " chNormalization)                                                \n",
      "                                                                 \n",
      " conv2d_23 (Conv2D)          (None, 5, 5, 96)          41568     \n",
      "                                                                 \n",
      " max_pooling2d_23 (MaxPoolin  (None, 3, 3, 96)         0         \n",
      " g2D)                                                            \n",
      "                                                                 \n",
      " batch_normalization_23 (Bat  (None, 3, 3, 96)         384       \n",
      " chNormalization)                                                \n",
      "                                                                 \n",
      " dropout_15 (Dropout)        (None, 3, 3, 96)          0         \n",
      "                                                                 \n",
      " flatten_5 (Flatten)         (None, 864)               0         \n",
      "                                                                 \n",
      " dense_15 (Dense)            (None, 128)               110720    \n",
      "                                                                 \n",
      " dropout_16 (Dropout)        (None, 128)               0         \n",
      "                                                                 \n",
      " dense_16 (Dense)            (None, 64)                8256      \n",
      "                                                                 \n",
      " dropout_17 (Dropout)        (None, 64)                0         \n",
      "                                                                 \n",
      " dense_17 (Dense)            (None, 5)                 325       \n",
      "                                                                 \n",
      "=================================================================\n",
      "Total params: 178,437\n",
      "Trainable params: 178,053\n",
      "Non-trainable params: 384\n",
      "_________________________________________________________________\n"
     ]
    }
   ],
   "source": [
    "model = Sequential()\n",
    "\n",
    "model.add(layers.Rescaling(1/255, input_shape=(128,128,3)))\n",
    "\n",
    "model.add(layers.RandomContrast(.8))\n",
    "model.add(layers.RandomFlip(mode='horizontal'))\n",
    "model.add(layers.RandomFlip(mode='vertical'))\n",
    "\n",
    "# model.add(layers.RandomZoom(-.2))\n",
    "\n",
    "model.add(layers.Conv2D(filters=24, kernel_size=(4,4), activation='relu', padding='same'))\n",
    "model.add(layers.MaxPool2D(pool_size=(5,5), padding='same'))\n",
    "model.add(layers.BatchNormalization())\n",
    "\n",
    "model.add(layers.Conv2D(filters=24, kernel_size=(3,3), activation='relu', padding='same'))\n",
    "model.add(layers.MaxPool2D(pool_size=(3,3), padding='same'))\n",
    "model.add(layers.BatchNormalization())\n",
    "\n",
    "model.add(layers.Conv2D(filters=48, kernel_size=(3,3), activation='relu', padding='same'))\n",
    "model.add(layers.MaxPool2D(pool_size=(2,2), padding='same'))\n",
    "model.add(layers.BatchNormalization())\n",
    "\n",
    "model.add(layers.Conv2D(filters=96, kernel_size=(3,3), activation='relu', padding='same'))\n",
    "model.add(layers.MaxPool2D(pool_size=(2,2), padding='same'))\n",
    "model.add(layers.BatchNormalization())\n",
    "model.add(layers.Dropout(.4))\n",
    "\n",
    "model.add(layers.Flatten())\n",
    "\n",
    "model.add(layers.Dense(128, activation='relu'))\n",
    "model.add(layers.Dropout(.4))\n",
    "\n",
    "model.add(layers.Dense(64, activation='relu'))\n",
    "model.add(layers.Dropout(.4))\n",
    "\n",
    "model.add(layers.Dense(5,activation=\"softmax\"))\n",
    "\n",
    "model.summary()"
   ]
  },
  {
   "cell_type": "markdown",
   "id": "784ab3ae-b7da-4031-96ec-eb91b6f8719c",
   "metadata": {},
   "source": [
    "# VGG16"
   ]
  },
  {
   "cell_type": "code",
   "execution_count": 18,
   "id": "83ae9d32-c9d5-4053-b74c-59956dfaebe1",
   "metadata": {},
   "outputs": [],
   "source": [
    "# model = Sequential()\n",
    "\n",
    "# model.add(layers.Rescaling(1/255, input_shape=(227,227,3)))\n",
    "\n",
    "# model.add(layers.RandomFlip(mode='horizontal_and_vertical'))\n",
    "\n",
    "# model.add(layers.Conv2D(filters=64, kernel_size=(3,3), activation='relu', padding='same'))\n",
    "# model.add(layers.Conv2D(filters=64, kernel_size=(3,3), activation='relu', padding='same'))\n",
    "# model.add(layers.MaxPool2D(pool_size=(2,2), strides=(2,2), padding='same'))\n",
    "\n",
    "# model.add(layers.Conv2D(filters=128, kernel_size=(3,3), activation='relu', padding='same'))\n",
    "# model.add(layers.Conv2D(filters=128, kernel_size=(3,3), activation='relu', padding='same'))\n",
    "# model.add(layers.MaxPool2D(pool_size=(2,2), strides=(2,2), padding='same'))\n",
    "\n",
    "# model.add(layers.Conv2D(filters=256, kernel_size=(3,3), activation='relu', padding='same'))\n",
    "# model.add(layers.Conv2D(filters=256, kernel_size=(3,3), activation='relu', padding='same'))\n",
    "# model.add(layers.Conv2D(filters=256, kernel_size=(3,3), activation='relu', padding='same'))\n",
    "# model.add(layers.MaxPool2D(pool_size=(2,2), strides=(2,2), padding='same'))\n",
    "\n",
    "# model.add(layers.Conv2D(filters=512, kernel_size=(3,3), activation='relu', padding='same'))\n",
    "# model.add(layers.Conv2D(filters=512, kernel_size=(3,3), activation='relu', padding='same'))\n",
    "# model.add(layers.Conv2D(filters=512, kernel_size=(3,3), activation='relu', padding='same'))\n",
    "# model.add(layers.MaxPool2D(pool_size=(2,2), strides=(2,2), padding='same'))\n",
    "\n",
    "# model.add(layers.Conv2D(filters=512, kernel_size=(3,3), activation='relu', padding='same'))\n",
    "# model.add(layers.Conv2D(filters=512, kernel_size=(3,3), activation='relu', padding='same'))\n",
    "# model.add(layers.Conv2D(filters=512, kernel_size=(3,3), activation='relu', padding='same'))\n",
    "# model.add(layers.MaxPool2D(pool_size=(2,2), strides=(2,2), padding='same'))\n",
    "\n",
    "# model.add(layers.Flatten())\n",
    "\n",
    "# model.add(layers.Dense(256, activation='relu'))\n",
    "\n",
    "# model.add(layers.Dense(128, activation='relu'))\n",
    "\n",
    "# model.add(layers.Dense(5,activation=\"softmax\"))\n",
    "\n",
    "# model.summary()"
   ]
  },
  {
   "cell_type": "code",
   "execution_count": 19,
   "id": "c02eff52-d476-4fe2-bb67-ef44e9abdcef",
   "metadata": {},
   "outputs": [],
   "source": [
    "# from tensorflow.keras.layers import Dense,Flatten,Conv2D,Activation,Dropout,MaxPool2D"
   ]
  },
  {
   "cell_type": "code",
   "execution_count": 20,
   "id": "ca81e9f7-98c5-4e5a-9ca5-da27cf5ae6b0",
   "metadata": {},
   "outputs": [],
   "source": [
    "# model = Sequential()\n",
    "# model.add(Conv2D(input_shape=(227,227,3),filters=64,kernel_size=(3,3),padding=\"same\", activation=\"relu\"))\n",
    "# model.add(Conv2D(filters=64,kernel_size=(3,3),padding=\"same\", activation=\"relu\"))\n",
    "# model.add(MaxPool2D(pool_size=(2,2),strides=(2,2)))\n",
    "# model.add(Conv2D(filters=128, kernel_size=(3,3), padding=\"same\", activation=\"relu\"))\n",
    "# model.add(Conv2D(filters=128, kernel_size=(3,3), padding=\"same\", activation=\"relu\"))\n",
    "# model.add(MaxPool2D(pool_size=(2,2),strides=(2,2)))\n",
    "# model.add(Conv2D(filters=256, kernel_size=(3,3), padding=\"same\", activation=\"relu\"))\n",
    "# model.add(Conv2D(filters=256, kernel_size=(3,3), padding=\"same\", activation=\"relu\"))\n",
    "# model.add(Conv2D(filters=256, kernel_size=(3,3), padding=\"same\", activation=\"relu\"))\n",
    "# model.add(MaxPool2D(pool_size=(2,2),strides=(2,2)))\n",
    "# model.add(Conv2D(filters=512, kernel_size=(3,3), padding=\"same\", activation=\"relu\"))\n",
    "# model.add(Conv2D(filters=512, kernel_size=(3,3), padding=\"same\", activation=\"relu\"))\n",
    "# model.add(Conv2D(filters=512, kernel_size=(3,3), padding=\"same\", activation=\"relu\"))\n",
    "# model.add(MaxPool2D(pool_size=(2,2),strides=(2,2)))\n",
    "# model.add(Conv2D(filters=512, kernel_size=(3,3), padding=\"same\", activation=\"relu\"))\n",
    "# model.add(Conv2D(filters=512, kernel_size=(3,3), padding=\"same\", activation=\"relu\"))\n",
    "# model.add(Conv2D(filters=512, kernel_size=(3,3), padding=\"same\", activation=\"relu\"))\n",
    "# model.add(MaxPool2D(pool_size=(2,2),strides=(2,2),name='vgg16'))\n",
    "# model.add(Flatten(name='flatten'))\n",
    "# model.add(Dense(256, activation='relu', name='fc1'))\n",
    "# model.add(Dense(128, activation='relu', name='fc2'))\n",
    "# model.add(Dense(5, activation='softmax', name='output'))"
   ]
  },
  {
   "cell_type": "code",
   "execution_count": 21,
   "id": "94c60887-6f47-4a6e-b83c-ecfe5e4f7dca",
   "metadata": {},
   "outputs": [],
   "source": [
    "# opt = optimizers.SGD(learning_rate=1e-6, momentum=0.9)\n",
    "# model.compile(loss=\"categorical_crossentropy\",\n",
    "#               optimizer=opt,\n",
    "#               metrics=[\"accuracy\"])"
   ]
  },
  {
   "cell_type": "code",
   "execution_count": 75,
   "id": "1a427731-441a-4394-aabf-ae312f718cc6",
   "metadata": {},
   "outputs": [],
   "source": [
    "adam = optimizers.Adam(learning_rate = .001)\n",
    "model.compile(loss='categorical_crossentropy',\n",
    "             optimizer=adam,\n",
    "             metrics=['accuracy'])"
   ]
  },
  {
   "cell_type": "code",
   "execution_count": 76,
   "id": "43c739cd-7971-470c-a15a-94f1c8fe40be",
   "metadata": {},
   "outputs": [
    {
     "name": "stdout",
     "output_type": "stream",
     "text": [
      "Found 3856 files belonging to 5 classes.\n",
      "Found 830 files belonging to 5 classes.\n",
      "Found 830 files belonging to 5 classes.\n"
     ]
    }
   ],
   "source": [
    "batch_size = 64\n",
    "train_ds = image_dataset_from_directory(\n",
    "    train_dir,\n",
    "    labels = 'inferred',\n",
    "    label_mode = 'categorical',\n",
    "    class_names = ['Broken soybeans', 'Immature soybeans', 'Intact soybeans', 'Skin-damaged soybeans', 'Spotted soybeans'],\n",
    "    image_size=(128,128),\n",
    "    batch_size=batch_size\n",
    ")\n",
    "\n",
    "val_ds = image_dataset_from_directory(\n",
    "    val_dir,\n",
    "    labels=\"inferred\",\n",
    "    label_mode = 'categorical',\n",
    "    class_names = ['Broken soybeans', 'Immature soybeans', 'Intact soybeans', 'Skin-damaged soybeans', 'Spotted soybeans'],\n",
    "    image_size=(128,128),\n",
    "    batch_size=batch_size\n",
    ")\n",
    "\n",
    "test_ds = image_dataset_from_directory(\n",
    "    test_dir,\n",
    "    labels=\"inferred\",\n",
    "    label_mode = 'categorical',\n",
    "    class_names = ['Broken soybeans', 'Immature soybeans', 'Intact soybeans', 'Skin-damaged soybeans', 'Spotted soybeans'],\n",
    "    image_size=(128,128),\n",
    "    batch_size=batch_size\n",
    ")"
   ]
  },
  {
   "cell_type": "code",
   "execution_count": 77,
   "id": "5b9d5a75-683c-40da-a8bd-a101214c8c3e",
   "metadata": {},
   "outputs": [],
   "source": [
    "# class_names = train_ds.class_names\n",
    "# print(class_names)"
   ]
  },
  {
   "cell_type": "code",
   "execution_count": 78,
   "id": "20cd2244-40be-41d3-b82a-883289e78e9b",
   "metadata": {},
   "outputs": [],
   "source": [
    "MODEL = \"model_1.keras\"\n",
    "\n",
    "modelCheckpoint = callbacks.ModelCheckpoint(MODEL,\n",
    "                                            monitor=\"val_accuracy\",\n",
    "                                            verbose=0,\n",
    "                                            save_best_only=True)\n",
    "\n",
    "LRreducer = callbacks.ReduceLROnPlateau(monitor=\"val_accuracy\",\n",
    "                                        factor=0.1,\n",
    "                                        patience=6,\n",
    "                                        verbose=1,\n",
    "                                        min_lr=0)\n",
    "\n",
    "EarlyStopper = callbacks.EarlyStopping(monitor='val_accuracy',\n",
    "                                       patience=25,\n",
    "                                       verbose=0,\n",
    "                                       restore_best_weights=True)"
   ]
  },
  {
   "cell_type": "code",
   "execution_count": 79,
   "id": "d262cf2f-3a2a-41d0-8e6d-d442bc30da8a",
   "metadata": {
    "scrolled": true
   },
   "outputs": [
    {
     "name": "stdout",
     "output_type": "stream",
     "text": [
      "Epoch 1/500\n"
     ]
    },
    {
     "name": "stderr",
     "output_type": "stream",
     "text": [
      "2024-11-19 20:26:40.394339: I tensorflow/core/grappler/optimizers/custom_graph_optimizer_registry.cc:114] Plugin optimizer for device_type GPU is enabled.\n",
      "2024-11-19 20:26:40.498151: I tensorflow/core/common_runtime/pluggable_device/pluggable_device_factory.cc:306] Could not identify NUMA node of platform GPU ID 0, defaulting to 0. Your kernel may not have been built with NUMA support.\n",
      "2024-11-19 20:26:40.498196: I tensorflow/core/common_runtime/pluggable_device/pluggable_device_factory.cc:272] Created TensorFlow device (/job:localhost/replica:0/task:0/device:GPU:0 with 13845 MB memory) -> physical PluggableDevice (device: 0, name: DML, pci bus id: <undefined>)\n",
      "2024-11-19 20:26:40.498914: I tensorflow/core/common_runtime/pluggable_device/pluggable_device_factory.cc:306] Could not identify NUMA node of platform GPU ID 0, defaulting to 0. Your kernel may not have been built with NUMA support.\n",
      "2024-11-19 20:26:40.498958: I tensorflow/core/common_runtime/pluggable_device/pluggable_device_factory.cc:272] Created TensorFlow device (/job:localhost/replica:0/task:0/device:GPU:0 with 13845 MB memory) -> physical PluggableDevice (device: 0, name: DML, pci bus id: <undefined>)\n",
      "2024-11-19 20:26:40.500435: I tensorflow/core/common_runtime/pluggable_device/pluggable_device_factory.cc:306] Could not identify NUMA node of platform GPU ID 0, defaulting to 0. Your kernel may not have been built with NUMA support.\n",
      "2024-11-19 20:26:40.500481: I tensorflow/core/common_runtime/pluggable_device/pluggable_device_factory.cc:272] Created TensorFlow device (/job:localhost/replica:0/task:0/device:GPU:0 with 13845 MB memory) -> physical PluggableDevice (device: 0, name: DML, pci bus id: <undefined>)\n"
     ]
    },
    {
     "name": "stdout",
     "output_type": "stream",
     "text": [
      "60/61 [============================>.] - ETA: 0s - loss: 1.5598 - accuracy: 0.3763"
     ]
    },
    {
     "name": "stderr",
     "output_type": "stream",
     "text": [
      "2024-11-19 20:26:47.618989: I tensorflow/core/grappler/optimizers/custom_graph_optimizer_registry.cc:114] Plugin optimizer for device_type GPU is enabled.\n",
      "2024-11-19 20:26:47.653506: I tensorflow/core/common_runtime/pluggable_device/pluggable_device_factory.cc:306] Could not identify NUMA node of platform GPU ID 0, defaulting to 0. Your kernel may not have been built with NUMA support.\n",
      "2024-11-19 20:26:47.653563: I tensorflow/core/common_runtime/pluggable_device/pluggable_device_factory.cc:272] Created TensorFlow device (/job:localhost/replica:0/task:0/device:GPU:0 with 13845 MB memory) -> physical PluggableDevice (device: 0, name: DML, pci bus id: <undefined>)\n"
     ]
    },
    {
     "name": "stdout",
     "output_type": "stream",
     "text": [
      "61/61 [==============================] - 8s 121ms/step - loss: 1.5611 - accuracy: 0.3758 - val_loss: 1.6422 - val_accuracy: 0.2265 - lr: 0.0010\n",
      "Epoch 2/500\n",
      "61/61 [==============================] - 6s 103ms/step - loss: 1.1966 - accuracy: 0.4990 - val_loss: 2.0370 - val_accuracy: 0.3265 - lr: 0.0010\n",
      "Epoch 3/500\n",
      "61/61 [==============================] - 7s 113ms/step - loss: 1.0902 - accuracy: 0.5493 - val_loss: 3.1037 - val_accuracy: 0.2036 - lr: 0.0010\n",
      "Epoch 4/500\n",
      "61/61 [==============================] - 7s 114ms/step - loss: 0.9520 - accuracy: 0.6172 - val_loss: 5.4523 - val_accuracy: 0.2036 - lr: 0.0010\n",
      "Epoch 5/500\n",
      "61/61 [==============================] - 6s 105ms/step - loss: 0.8714 - accuracy: 0.6556 - val_loss: 4.0686 - val_accuracy: 0.2169 - lr: 0.0010\n",
      "Epoch 6/500\n",
      "61/61 [==============================] - 6s 95ms/step - loss: 0.7949 - accuracy: 0.6942 - val_loss: 3.7608 - val_accuracy: 0.2506 - lr: 0.0010\n",
      "Epoch 7/500\n",
      "61/61 [==============================] - 6s 105ms/step - loss: 0.7202 - accuracy: 0.7300 - val_loss: 1.2422 - val_accuracy: 0.5470 - lr: 0.0010\n",
      "Epoch 8/500\n",
      "61/61 [==============================] - 7s 118ms/step - loss: 0.6828 - accuracy: 0.7456 - val_loss: 1.7209 - val_accuracy: 0.4807 - lr: 0.0010\n",
      "Epoch 9/500\n",
      "61/61 [==============================] - 7s 110ms/step - loss: 0.6306 - accuracy: 0.7658 - val_loss: 2.0227 - val_accuracy: 0.4229 - lr: 0.0010\n",
      "Epoch 10/500\n",
      "61/61 [==============================] - 7s 114ms/step - loss: 0.5894 - accuracy: 0.7788 - val_loss: 1.7273 - val_accuracy: 0.5554 - lr: 0.0010\n",
      "Epoch 11/500\n",
      "61/61 [==============================] - 6s 98ms/step - loss: 0.5775 - accuracy: 0.7949 - val_loss: 2.4077 - val_accuracy: 0.4048 - lr: 0.0010\n",
      "Epoch 12/500\n",
      "61/61 [==============================] - 8s 124ms/step - loss: 0.5389 - accuracy: 0.7977 - val_loss: 1.5957 - val_accuracy: 0.5410 - lr: 0.0010\n",
      "Epoch 13/500\n",
      "61/61 [==============================] - 7s 112ms/step - loss: 0.4759 - accuracy: 0.8195 - val_loss: 0.6976 - val_accuracy: 0.7554 - lr: 0.0010\n",
      "Epoch 14/500\n",
      "61/61 [==============================] - 7s 109ms/step - loss: 0.4673 - accuracy: 0.8314 - val_loss: 1.5823 - val_accuracy: 0.4795 - lr: 0.0010\n",
      "Epoch 15/500\n",
      "61/61 [==============================] - 7s 115ms/step - loss: 0.4287 - accuracy: 0.8517 - val_loss: 0.8165 - val_accuracy: 0.6867 - lr: 0.0010\n",
      "Epoch 16/500\n",
      "61/61 [==============================] - 6s 104ms/step - loss: 0.4174 - accuracy: 0.8488 - val_loss: 1.3397 - val_accuracy: 0.6193 - lr: 0.0010\n",
      "Epoch 17/500\n",
      "61/61 [==============================] - 8s 124ms/step - loss: 0.3887 - accuracy: 0.8579 - val_loss: 0.8286 - val_accuracy: 0.7506 - lr: 0.0010\n",
      "Epoch 18/500\n",
      "61/61 [==============================] - 7s 106ms/step - loss: 0.3626 - accuracy: 0.8716 - val_loss: 0.5966 - val_accuracy: 0.7639 - lr: 0.0010\n",
      "Epoch 19/500\n",
      "61/61 [==============================] - 8s 124ms/step - loss: 0.3420 - accuracy: 0.8706 - val_loss: 2.6122 - val_accuracy: 0.4675 - lr: 0.0010\n",
      "Epoch 20/500\n",
      "61/61 [==============================] - 7s 114ms/step - loss: 0.3500 - accuracy: 0.8724 - val_loss: 2.0358 - val_accuracy: 0.5566 - lr: 0.0010\n",
      "Epoch 21/500\n",
      "61/61 [==============================] - 7s 114ms/step - loss: 0.3190 - accuracy: 0.8885 - val_loss: 3.4651 - val_accuracy: 0.4000 - lr: 0.0010\n",
      "Epoch 22/500\n",
      "61/61 [==============================] - 8s 125ms/step - loss: 0.2800 - accuracy: 0.9020 - val_loss: 0.8218 - val_accuracy: 0.7639 - lr: 0.0010\n",
      "Epoch 23/500\n",
      "61/61 [==============================] - 8s 124ms/step - loss: 0.2508 - accuracy: 0.9082 - val_loss: 0.7117 - val_accuracy: 0.7434 - lr: 0.0010\n",
      "Epoch 24/500\n",
      "61/61 [==============================] - 6s 98ms/step - loss: 0.2464 - accuracy: 0.9139 - val_loss: 0.4190 - val_accuracy: 0.8398 - lr: 0.0010\n",
      "Epoch 25/500\n",
      "61/61 [==============================] - 7s 122ms/step - loss: 0.2645 - accuracy: 0.9061 - val_loss: 0.5841 - val_accuracy: 0.7807 - lr: 0.0010\n",
      "Epoch 26/500\n",
      "61/61 [==============================] - 7s 108ms/step - loss: 0.2428 - accuracy: 0.9147 - val_loss: 0.6164 - val_accuracy: 0.8084 - lr: 0.0010\n",
      "Epoch 27/500\n",
      "61/61 [==============================] - 7s 107ms/step - loss: 0.2111 - accuracy: 0.9240 - val_loss: 0.9646 - val_accuracy: 0.6892 - lr: 0.0010\n",
      "Epoch 28/500\n",
      "61/61 [==============================] - 7s 115ms/step - loss: 0.2109 - accuracy: 0.9253 - val_loss: 1.1146 - val_accuracy: 0.7253 - lr: 0.0010\n",
      "Epoch 29/500\n",
      "61/61 [==============================] - 7s 115ms/step - loss: 0.1910 - accuracy: 0.9339 - val_loss: 0.9123 - val_accuracy: 0.7518 - lr: 0.0010\n",
      "Epoch 30/500\n",
      "61/61 [==============================] - 7s 115ms/step - loss: 0.1961 - accuracy: 0.9328 - val_loss: 0.5080 - val_accuracy: 0.8446 - lr: 0.0010\n",
      "Epoch 31/500\n",
      "61/61 [==============================] - 7s 109ms/step - loss: 0.1975 - accuracy: 0.9310 - val_loss: 0.4330 - val_accuracy: 0.8651 - lr: 0.0010\n",
      "Epoch 32/500\n",
      "61/61 [==============================] - 7s 109ms/step - loss: 0.1852 - accuracy: 0.9313 - val_loss: 0.5947 - val_accuracy: 0.8169 - lr: 0.0010\n",
      "Epoch 33/500\n",
      "61/61 [==============================] - 7s 106ms/step - loss: 0.1877 - accuracy: 0.9310 - val_loss: 0.9964 - val_accuracy: 0.7506 - lr: 0.0010\n",
      "Epoch 34/500\n",
      "61/61 [==============================] - 7s 106ms/step - loss: 0.1676 - accuracy: 0.9411 - val_loss: 0.6076 - val_accuracy: 0.8398 - lr: 0.0010\n",
      "Epoch 35/500\n",
      "61/61 [==============================] - 7s 110ms/step - loss: 0.1844 - accuracy: 0.9398 - val_loss: 1.0215 - val_accuracy: 0.7361 - lr: 0.0010\n",
      "Epoch 36/500\n",
      "61/61 [==============================] - 7s 110ms/step - loss: 0.1434 - accuracy: 0.9468 - val_loss: 0.6528 - val_accuracy: 0.8482 - lr: 0.0010\n",
      "Epoch 37/500\n",
      "60/61 [============================>.] - ETA: 0s - loss: 0.1415 - accuracy: 0.9563\n",
      "Epoch 37: ReduceLROnPlateau reducing learning rate to 0.00010000000474974513.\n",
      "61/61 [==============================] - 7s 113ms/step - loss: 0.1413 - accuracy: 0.9562 - val_loss: 0.6860 - val_accuracy: 0.8289 - lr: 0.0010\n",
      "Epoch 38/500\n",
      "61/61 [==============================] - 7s 109ms/step - loss: 0.0915 - accuracy: 0.9707 - val_loss: 0.4715 - val_accuracy: 0.8723 - lr: 1.0000e-04\n",
      "Epoch 39/500\n",
      "61/61 [==============================] - 8s 124ms/step - loss: 0.0696 - accuracy: 0.9790 - val_loss: 0.3998 - val_accuracy: 0.8795 - lr: 1.0000e-04\n",
      "Epoch 40/500\n",
      "61/61 [==============================] - 7s 117ms/step - loss: 0.0641 - accuracy: 0.9787 - val_loss: 0.4129 - val_accuracy: 0.8759 - lr: 1.0000e-04\n",
      "Epoch 41/500\n",
      "61/61 [==============================] - 7s 117ms/step - loss: 0.0675 - accuracy: 0.9803 - val_loss: 0.4370 - val_accuracy: 0.8831 - lr: 1.0000e-04\n",
      "Epoch 42/500\n",
      "61/61 [==============================] - 8s 124ms/step - loss: 0.0576 - accuracy: 0.9829 - val_loss: 0.4390 - val_accuracy: 0.8807 - lr: 1.0000e-04\n",
      "Epoch 43/500\n",
      "61/61 [==============================] - 7s 116ms/step - loss: 0.0561 - accuracy: 0.9808 - val_loss: 0.4180 - val_accuracy: 0.8843 - lr: 1.0000e-04\n",
      "Epoch 44/500\n",
      "61/61 [==============================] - 7s 113ms/step - loss: 0.0574 - accuracy: 0.9803 - val_loss: 0.4231 - val_accuracy: 0.8831 - lr: 1.0000e-04\n",
      "Epoch 45/500\n",
      "61/61 [==============================] - 7s 116ms/step - loss: 0.0537 - accuracy: 0.9834 - val_loss: 0.4440 - val_accuracy: 0.8843 - lr: 1.0000e-04\n",
      "Epoch 46/500\n",
      "61/61 [==============================] - 7s 110ms/step - loss: 0.0499 - accuracy: 0.9847 - val_loss: 0.4530 - val_accuracy: 0.8819 - lr: 1.0000e-04\n",
      "Epoch 47/500\n",
      "61/61 [==============================] - 6s 105ms/step - loss: 0.0474 - accuracy: 0.9850 - val_loss: 0.4534 - val_accuracy: 0.8880 - lr: 1.0000e-04\n",
      "Epoch 48/500\n",
      "61/61 [==============================] - 8s 124ms/step - loss: 0.0516 - accuracy: 0.9821 - val_loss: 0.4613 - val_accuracy: 0.8783 - lr: 1.0000e-04\n",
      "Epoch 49/500\n",
      "61/61 [==============================] - 8s 124ms/step - loss: 0.0519 - accuracy: 0.9826 - val_loss: 0.4478 - val_accuracy: 0.8855 - lr: 1.0000e-04\n",
      "Epoch 50/500\n",
      "61/61 [==============================] - 7s 115ms/step - loss: 0.0540 - accuracy: 0.9813 - val_loss: 0.4449 - val_accuracy: 0.8795 - lr: 1.0000e-04\n",
      "Epoch 51/500\n",
      "61/61 [==============================] - 7s 111ms/step - loss: 0.0410 - accuracy: 0.9857 - val_loss: 0.4520 - val_accuracy: 0.8928 - lr: 1.0000e-04\n",
      "Epoch 52/500\n",
      "61/61 [==============================] - 6s 103ms/step - loss: 0.0377 - accuracy: 0.9878 - val_loss: 0.4728 - val_accuracy: 0.8855 - lr: 1.0000e-04\n",
      "Epoch 53/500\n",
      "61/61 [==============================] - 7s 115ms/step - loss: 0.0408 - accuracy: 0.9863 - val_loss: 0.4857 - val_accuracy: 0.8880 - lr: 1.0000e-04\n",
      "Epoch 54/500\n",
      "61/61 [==============================] - 8s 124ms/step - loss: 0.0353 - accuracy: 0.9904 - val_loss: 0.5158 - val_accuracy: 0.8807 - lr: 1.0000e-04\n",
      "Epoch 55/500\n",
      "61/61 [==============================] - 7s 115ms/step - loss: 0.0337 - accuracy: 0.9899 - val_loss: 0.5033 - val_accuracy: 0.8747 - lr: 1.0000e-04\n",
      "Epoch 56/500\n",
      "61/61 [==============================] - 6s 101ms/step - loss: 0.0311 - accuracy: 0.9883 - val_loss: 0.4748 - val_accuracy: 0.8916 - lr: 1.0000e-04\n",
      "Epoch 57/500\n",
      "60/61 [============================>.] - ETA: 0s - loss: 0.0332 - accuracy: 0.9888\n",
      "Epoch 57: ReduceLROnPlateau reducing learning rate to 1.0000000474974514e-05.\n",
      "61/61 [==============================] - 8s 124ms/step - loss: 0.0330 - accuracy: 0.9888 - val_loss: 0.5293 - val_accuracy: 0.8711 - lr: 1.0000e-04\n",
      "Epoch 58/500\n",
      "61/61 [==============================] - 7s 116ms/step - loss: 0.0319 - accuracy: 0.9876 - val_loss: 0.4758 - val_accuracy: 0.8795 - lr: 1.0000e-05\n",
      "Epoch 59/500\n",
      "61/61 [==============================] - 7s 109ms/step - loss: 0.0336 - accuracy: 0.9894 - val_loss: 0.4657 - val_accuracy: 0.8880 - lr: 1.0000e-05\n",
      "Epoch 60/500\n",
      "61/61 [==============================] - 7s 110ms/step - loss: 0.0260 - accuracy: 0.9927 - val_loss: 0.4631 - val_accuracy: 0.8904 - lr: 1.0000e-05\n",
      "Epoch 61/500\n",
      "61/61 [==============================] - 6s 101ms/step - loss: 0.0295 - accuracy: 0.9901 - val_loss: 0.4663 - val_accuracy: 0.8904 - lr: 1.0000e-05\n",
      "Epoch 62/500\n",
      "61/61 [==============================] - 7s 107ms/step - loss: 0.0299 - accuracy: 0.9891 - val_loss: 0.4666 - val_accuracy: 0.8904 - lr: 1.0000e-05\n",
      "Epoch 63/500\n",
      "60/61 [============================>.] - ETA: 0s - loss: 0.0332 - accuracy: 0.9898\n",
      "Epoch 63: ReduceLROnPlateau reducing learning rate to 1.0000000656873453e-06.\n",
      "61/61 [==============================] - 8s 124ms/step - loss: 0.0332 - accuracy: 0.9899 - val_loss: 0.4731 - val_accuracy: 0.8904 - lr: 1.0000e-05\n",
      "Epoch 64/500\n",
      "61/61 [==============================] - 7s 114ms/step - loss: 0.0281 - accuracy: 0.9901 - val_loss: 0.4728 - val_accuracy: 0.8904 - lr: 1.0000e-06\n",
      "Epoch 65/500\n",
      "61/61 [==============================] - 7s 108ms/step - loss: 0.0285 - accuracy: 0.9930 - val_loss: 0.4723 - val_accuracy: 0.8904 - lr: 1.0000e-06\n",
      "Epoch 66/500\n",
      "61/61 [==============================] - 6s 98ms/step - loss: 0.0271 - accuracy: 0.9922 - val_loss: 0.4728 - val_accuracy: 0.8904 - lr: 1.0000e-06\n",
      "Epoch 67/500\n",
      "61/61 [==============================] - 7s 107ms/step - loss: 0.0272 - accuracy: 0.9920 - val_loss: 0.4734 - val_accuracy: 0.8904 - lr: 1.0000e-06\n",
      "Epoch 68/500\n",
      "61/61 [==============================] - 6s 106ms/step - loss: 0.0265 - accuracy: 0.9920 - val_loss: 0.4734 - val_accuracy: 0.8904 - lr: 1.0000e-06\n",
      "Epoch 69/500\n",
      "60/61 [============================>.] - ETA: 0s - loss: 0.0284 - accuracy: 0.9919\n",
      "Epoch 69: ReduceLROnPlateau reducing learning rate to 1.0000001111620805e-07.\n",
      "61/61 [==============================] - 6s 103ms/step - loss: 0.0284 - accuracy: 0.9920 - val_loss: 0.4735 - val_accuracy: 0.8904 - lr: 1.0000e-06\n",
      "Epoch 70/500\n",
      "61/61 [==============================] - 7s 109ms/step - loss: 0.0257 - accuracy: 0.9917 - val_loss: 0.4736 - val_accuracy: 0.8904 - lr: 1.0000e-07\n",
      "Epoch 71/500\n",
      "61/61 [==============================] - 6s 95ms/step - loss: 0.0327 - accuracy: 0.9891 - val_loss: 0.4738 - val_accuracy: 0.8904 - lr: 1.0000e-07\n",
      "Epoch 72/500\n",
      "61/61 [==============================] - 7s 116ms/step - loss: 0.0281 - accuracy: 0.9922 - val_loss: 0.4737 - val_accuracy: 0.8904 - lr: 1.0000e-07\n",
      "Epoch 73/500\n",
      "61/61 [==============================] - 7s 107ms/step - loss: 0.0380 - accuracy: 0.9873 - val_loss: 0.4734 - val_accuracy: 0.8904 - lr: 1.0000e-07\n",
      "Epoch 74/500\n",
      "61/61 [==============================] - 6s 102ms/step - loss: 0.0284 - accuracy: 0.9920 - val_loss: 0.4732 - val_accuracy: 0.8904 - lr: 1.0000e-07\n",
      "Epoch 75/500\n",
      "60/61 [============================>.] - ETA: 0s - loss: 0.0269 - accuracy: 0.9917\n",
      "Epoch 75: ReduceLROnPlateau reducing learning rate to 1.000000082740371e-08.\n",
      "61/61 [==============================] - 6s 103ms/step - loss: 0.0268 - accuracy: 0.9917 - val_loss: 0.4729 - val_accuracy: 0.8904 - lr: 1.0000e-07\n",
      "Epoch 76/500\n",
      "61/61 [==============================] - 6s 103ms/step - loss: 0.0275 - accuracy: 0.9925 - val_loss: 0.4732 - val_accuracy: 0.8904 - lr: 1.0000e-08\n",
      "CPU times: user 9min 10s, sys: 2min 20s, total: 11min 31s\n",
      "Wall time: 8min 40s\n"
     ]
    }
   ],
   "source": [
    "%%time\n",
    "history = model.fit(\n",
    "        train_ds,\n",
    "        epochs=500,\n",
    "        validation_data=val_ds,\n",
    "        callbacks=[modelCheckpoint, LRreducer, EarlyStopper]\n",
    "        )"
   ]
  },
  {
   "cell_type": "code",
   "execution_count": 80,
   "id": "939e5ba9-0124-4de9-908f-d6d679ab5219",
   "metadata": {
    "scrolled": true
   },
   "outputs": [
    {
     "data": {
      "image/png": "[encoded data removed]",
      "text/plain": [
       "<Figure size 1500x500 with 2 Axes>"
      ]
     },
     "metadata": {},
     "output_type": "display_data"
    }
   ],
   "source": [
    "plot_history(history)"
   ]
  },
  {
   "cell_type": "code",
   "execution_count": 81,
   "id": "e2eb5e47-611a-42b7-b80c-bddc6eb7c1e1",
   "metadata": {},
   "outputs": [
    {
     "name": "stdout",
     "output_type": "stream",
     "text": [
      "13/13 [==============================] - 0s 17ms/step - loss: 0.4520 - accuracy: 0.8928\n"
     ]
    },
    {
     "data": {
      "text/plain": [
       "[0.45198121666908264, 0.8927711248397827]"
      ]
     },
     "execution_count": 81,
     "metadata": {},
     "output_type": "execute_result"
    }
   ],
   "source": [
    "model.evaluate(test_ds)"
   ]
  },
  {
   "cell_type": "code",
   "execution_count": 65,
   "id": "e6b0c6fb-7b24-4be5-bb0e-6921207eeeb4",
   "metadata": {},
   "outputs": [],
   "source": [
    "#model.save(\"model_val_loss:0.-val_accuracy:0.\")"
   ]
  },
  {
   "cell_type": "code",
   "execution_count": 66,
   "id": "70670126-07e7-4e57-8ccf-e627c75ebf8e",
   "metadata": {},
   "outputs": [],
   "source": [
    "# model_1 = load_model(\"model_val_loss-0.2979-val_accuracy-0.8940\")"
   ]
  },
  {
   "cell_type": "code",
   "execution_count": 67,
   "id": "9d1fd37a-e163-4a28-b7cd-cedcbfabc091",
   "metadata": {},
   "outputs": [],
   "source": [
    "# model_1.evaluate(test_ds)"
   ]
  },
  {
   "cell_type": "code",
   "execution_count": null,
   "id": "aafc54b2-227a-473f-8aa7-d54534657767",
   "metadata": {},
   "outputs": [],
   "source": []
  }
 ],
 "metadata": {
  "kernelspec": {
   "display_name": "Python 3 (ipykernel)",
   "language": "python",
   "name": "python3"
  },
  "language_info": {
   "codemirror_mode": {
    "name": "ipython",
    "version": 3
   },
   "file_extension": ".py",
   "mimetype": "text/x-python",
   "name": "python",
   "nbconvert_exporter": "python",
   "pygments_lexer": "ipython3",
   "version": "3.10.6"
  }
 },
 "nbformat": 4,
 "nbformat_minor": 5
}
